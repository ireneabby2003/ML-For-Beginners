{
  "nbformat": 4,
  "nbformat_minor": 0,
  "metadata": {
    "colab": {
      "provenance": [],
      "authorship_tag": "ABX9TyNRe7Nup+pmGH00NDrCPbpl",
      "include_colab_link": true
    },
    "kernelspec": {
      "name": "python3",
      "display_name": "Python 3"
    },
    "language_info": {
      "name": "python"
    }
  },
  "cells": [
    {
      "cell_type": "markdown",
      "metadata": {
        "id": "view-in-github",
        "colab_type": "text"
      },
      "source": [
        "<a href=\"https://colab.research.google.com/github/ireneabby2003/ML-For-Beginners/blob/main/streamlit_app.ipynb\" target=\"_parent\"><img src=\"https://colab.research.google.com/assets/colab-badge.svg\" alt=\"Open In Colab\"/></a>"
      ]
    },
    {
      "cell_type": "code",
      "execution_count": null,
      "metadata": {
        "id": "sqEB7B3dF_pw"
      },
      "outputs": [],
      "source": [
        "import streamlit as st\n",
        "import pandas as pd\n",
        "import numpy as np\n",
        "import matplotlib.pyplot as plt\n",
        "import seaborn as sns\n",
        "from pytorch_tabnet.tab_model import TabNetClassifier\n",
        "from sklearn.preprocessing import StandardScaler\n",
        "\n",
        "# Load model\n",
        "tabnet = TabNetClassifier()\n",
        "tabnet.load_model(\"tabnet_model.zip\")\n",
        "\n",
        "# Load your test data\n",
        "X_test = pd.read_csv(\"X_tab_test.csv\")  # Save this from your notebook\n",
        "y_test = pd.read_csv(\"y_tab_test.csv\")\n",
        "\n",
        "# Inference\n",
        "preds_proba = tabnet.predict_proba(X_test)\n",
        "preds_class = preds_proba.argmax(axis=1)\n",
        "\n",
        "st.title(\"🧠 TabNet Model Interpretability\")\n",
        "\n",
        "index = st.number_input(\"Choose sample index\", min_value=0, max_value=len(X_test)-1, step=1)\n",
        "\n",
        "sample = X_test.iloc[[index]]\n",
        "true_label = y_test.iloc[index]\n",
        "pred_label = preds_class[index]\n",
        "prob = preds_proba[index][pred_label]\n",
        "\n",
        "st.write(f\"### 🎯 Prediction: {pred_label} with probability {prob:.4f}\")\n",
        "st.write(f\"### 🏷️ True label: {true_label}\")\n",
        "\n",
        "# Plot explanation\n",
        "explain_matrix, masks = tabnet.explain(sample.values)\n",
        "\n",
        "# Step-by-step attention heatmap\n",
        "fig, ax = plt.subplots(figsize=(10, 5))\n",
        "sns.heatmap(masks[0], cmap=\"YlGnBu\", xticklabels=X_test.columns, yticklabels=[f\"Step {i}\" for i in range(masks[0].shape[0])], ax=ax)\n",
        "plt.title(\"Step-by-Step Attention\")\n",
        "st.pyplot(fig)\n",
        "\n",
        "# Aggregated attention\n",
        "agg_attn = masks[0].sum(axis=0)\n",
        "sorted_idx = np.argsort(agg_attn)[::-1]\n",
        "sorted_features = np.array(X_test.columns)[sorted_idx]\n",
        "sorted_values = agg_attn[sorted_idx]\n",
        "\n",
        "fig2, ax2 = plt.subplots()\n",
        "sns.barplot(x=sorted_values, y=sorted_features, palette=\"viridis\", ax=ax2)\n",
        "plt.title(\"Aggregated Feature Importance\")\n",
        "st.pyplot(fig2)\n"
      ]
    }
  ]
}